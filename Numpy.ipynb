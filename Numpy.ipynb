{
 "cells": [
  {
   "cell_type": "code",
   "execution_count": 6,
   "id": "129d9b37",
   "metadata": {},
   "outputs": [],
   "source": [
    "import numpy as np\n",
    "def normal_distribution(x,mu,sigma):\n",
    "    return (1/(sigma*np.sqrt(2*np.pi)))*exp(-1/2*((x-mu)/sigma)**2)\n",
    "def sigmoid(x):\n",
    "    return 1/(1+exp(-x))\n",
    "def updtd(w,X,a):\n",
    "    n = len(X)\n",
    "    for i in range(n):\n",
    "        \n",
    "        random_index = np.random.randint(len(X))\n",
    "        x_i = X[random_index]\n",
    "        y_i = y[random_index]\n",
    "\n",
    "        y_hat_i = sigmoid(np.dot(x_i, w))\n",
    "\n",
    "      \n",
    "        for j in range(len(weights)):\n",
    "            w[j] = w[j] - (a / len(X)) * (y_hat_i - y_i) * x_i[j]\n",
    "\n",
    "def binary_cross_entropy(X, y, weights):\n",
    "    m = len(y)\n",
    "    h = sigmoid(np.dot(X, weights))\n",
    "    cost = (-1/m) * np.sum(y * np.log(h) + (1 - y) * np.log(1 - h))\n",
    "    return cost\n",
    "\n",
    "def mean_squared_error(y_true, y_pred):\n",
    "    return np.mean((y_true - y_pred) ** 2)"
   ]
  },
  {
   "cell_type": "code",
   "execution_count": null,
   "id": "ac0aea62",
   "metadata": {},
   "outputs": [],
   "source": []
  }
 ],
 "metadata": {
  "kernelspec": {
   "display_name": "Python 3 (ipykernel)",
   "language": "python",
   "name": "python3"
  },
  "language_info": {
   "codemirror_mode": {
    "name": "ipython",
    "version": 3
   },
   "file_extension": ".py",
   "mimetype": "text/x-python",
   "name": "python",
   "nbconvert_exporter": "python",
   "pygments_lexer": "ipython3",
   "version": "3.10.9"
  }
 },
 "nbformat": 4,
 "nbformat_minor": 5
}
